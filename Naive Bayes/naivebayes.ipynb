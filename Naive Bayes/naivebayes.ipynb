{
 "cells": [
  {
   "cell_type": "code",
   "execution_count": null,
   "metadata": {},
   "outputs": [],
   "source": [
    "import numpy as np\n",
    "import pandas as pd\n",
    "from os.path import exists"
   ]
  },
  {
   "cell_type": "code",
   "execution_count": 70,
   "metadata": {},
   "outputs": [],
   "source": [
    "class NaiveBayes:\n",
    "  def __init__(self, ngram = 1):\n",
    "    self.ngram = ngram\n",
    "    self.dataset = np.empty(0)\n",
    "    self.words = np.empty(0)\n",
    "    self.labels = np.empty(0)\n",
    "    self.frequentWord = np.empty(0)\n",
    "  \n",
    "  def addDataset(self, path):\n",
    "    if exists(path):\n",
    "      self.dataset = np.append(self.dataset, path)\n",
    "      self.processDataset()\n",
    "    else:\n",
    "      raise Exception('Dataset not found')\n",
    "  \n",
    "  def processDataset(self):\n",
    "    for item in self.dataset:\n",
    "      self.extractDataset(item)\n",
    "  \n",
    "  def extractDataset(self, path):\n",
    "    data = pd.read_csv(path)\n",
    "    data = pd.DataFrame(data)\n",
    "    words = {}\n",
    "\n",
    "    for index, row in data.iterrows():\n",
    "      self.labels = np.append(self.labels, row[0])\n",
    "      words[row[0].lower()] = words[row[0].lower()] + ' ' + row[1].lower() if row[0].lower() in words else row[1].lower()\n",
    "    \n",
    "    self.labels = np.unique(self.labels)\n",
    "    self.words = np.append(self.words, words)\n",
    "\n",
    "    self.getFrequentData()\n",
    "  \n",
    "  def getFrequentData(self):\n",
    "    frequentData = {}\n",
    "    \n",
    "    for item in self.labels:\n",
    "      frequentData[item] = {}\n",
    "      for data in self.words:\n",
    "        for word in data[item].split():\n",
    "          frequentData[item][word] = frequentData[item][word] + 1 if word in frequentData[item] else 1\n",
    "    \n",
    "    self.frequentWord = np.append(self.frequentWord, frequentData)\n",
    "\n",
    "  def debug(self):\n",
    "    print('NGRAM')\n",
    "    print(self.ngram)\n",
    "    print('Dataset')\n",
    "    print(self.dataset)\n",
    "    print('Labels')\n",
    "    print(self.labels)\n",
    "    print('Words')\n",
    "    print(self.words)\n",
    "    print('Frequent word')\n",
    "    print(self.frequentWord)"
   ]
  },
  {
   "cell_type": "code",
   "execution_count": 71,
   "metadata": {},
   "outputs": [
    {
     "name": "stdout",
     "output_type": "stream",
     "text": [
      "NGRAM\n",
      "1\n",
      "Dataset\n",
      "['./dataset/sample.csv']\n",
      "Labels\n",
      "['negatif' 'positif']\n",
      "Words\n",
      "[{'positif': 'kamu memang yang terbaik buat aku memang kamu itu hebat ya luar biasa kamu ini', 'negatif': 'kamu sangat tidak baik dasar bisanya hanya merepotkan bisa tidak sih jangan dekat-dekat kamu ini tidak bisa apa-apa'}]\n",
      "Frequent word\n",
      "[{'negatif': {'kamu': 2, 'sangat': 1, 'tidak': 3, 'baik': 1, 'dasar': 1, 'bisanya': 1, 'hanya': 1, 'merepotkan': 1, 'bisa': 2, 'sih': 1, 'jangan': 1, 'dekat-dekat': 1, 'ini': 1, 'apa-apa': 1}, 'positif': {'kamu': 3, 'memang': 2, 'yang': 1, 'terbaik': 1, 'buat': 1, 'aku': 1, 'itu': 1, 'hebat': 1, 'ya': 1, 'luar': 1, 'biasa': 1, 'ini': 1}}]\n"
     ]
    }
   ],
   "source": [
    "nb = NaiveBayes()\n",
    "nb.addDataset('./dataset/sample.csv')\n",
    "nb.debug()\n"
   ]
  }
 ],
 "metadata": {
  "interpreter": {
   "hash": "31f2aee4e71d21fbe5cf8b01ff0e069b9275f58929596ceb00d14d90e3e16cd6"
  },
  "kernelspec": {
   "display_name": "Python 3.8.9 64-bit",
   "name": "python3"
  },
  "language_info": {
   "codemirror_mode": {
    "name": "ipython",
    "version": 3
   },
   "file_extension": ".py",
   "mimetype": "text/x-python",
   "name": "python",
   "nbconvert_exporter": "python",
   "pygments_lexer": "ipython3",
   "version": "3.8.9"
  },
  "orig_nbformat": 4
 },
 "nbformat": 4,
 "nbformat_minor": 2
}
