{
 "cells": [
  {
   "cell_type": "code",
   "execution_count": 55,
   "metadata": {},
   "outputs": [],
   "source": [
    "import numpy as np\n",
    "import pandas as pd\n",
    "import json\n",
    "from os.path import exists"
   ]
  },
  {
   "cell_type": "code",
   "execution_count": 69,
   "metadata": {},
   "outputs": [],
   "source": [
    "class NaiveBayes:\n",
    "  def __init__(self, ngram = 1):\n",
    "    self.ngram = ngram\n",
    "    self.dataset = np.empty(0)\n",
    "    self.words = np.empty(0)\n",
    "    self.labels = np.empty(0)\n",
    "    self.frequentWord = np.empty(0)\n",
    "  \n",
    "  def addDataset(self, path):\n",
    "    if exists(path):\n",
    "      self.dataset = np.append(self.dataset, path)\n",
    "    else:\n",
    "      raise Exception('Dataset not found')\n",
    "  \n",
    "  def processDataset(self):\n",
    "    for item in self.dataset:\n",
    "      self.extractDataset(item)\n",
    "  \n",
    "  def extractDataset(self, path):\n",
    "    data = pd.read_csv(path)\n",
    "    data = pd.DataFrame(data)\n",
    "    words = {}\n",
    "\n",
    "    for index, row in data.iterrows():\n",
    "      self.labels = np.append(self.labels, row[0])\n",
    "      words[row[0].lower()] = words[row[0].lower()] + ' ' + row[1].lower() if row[0].lower() in words else row[1].lower()\n",
    "    \n",
    "    self.labels = np.unique(self.labels)\n",
    "    self.words = words\n",
    "\n",
    "    self.getFrequentData()\n",
    "  \n",
    "  def getFrequentData(self):\n",
    "    frequentData = {}\n",
    "    \n",
    "    for item in self.labels:\n",
    "      frequentData[item] = {}\n",
    "      for word in self.words[item].split():\n",
    "        frequentData[item][word] = frequentData[item][word] + 1 if word in frequentData[item] else 1\n",
    "    \n",
    "    self.frequentWord = frequentData\n",
    "    self.processWordAccumulative()\n",
    "\n",
    "  def processWordAccumulative(self):\n",
    "    for label in self.labels:\n",
    "      for word in self.words[label].split():\n",
    "        for checkLabel in self.labels:\n",
    "          if word not in self.frequentWord[checkLabel]:\n",
    "            self.frequentWord[checkLabel][word] = 0\n",
    "  \n",
    "  def saveModel(self, path, filename):\n",
    "    data = {\n",
    "      'labels': dict(enumerate(self.labels.flatten(), 0)),\n",
    "      'originalWord': self.words,\n",
    "      'frequent': self.frequentWord\n",
    "    }\n",
    "\n",
    "    with open('./' + path + '/' + filename + '.json', 'w') as file:\n",
    "      json.dump(data, file)\n",
    "\n",
    "    print('Model berhasil disimpan di ' + path + '/' + filename + '.json')\n",
    "\n",
    "  def debug(self):\n",
    "    print('NGRAM')\n",
    "    print(self.ngram)\n",
    "    print('Dataset')\n",
    "    print(self.dataset)\n",
    "    print('Labels')\n",
    "    print(self.labels)\n",
    "    print('Words')\n",
    "    print(self.words)\n",
    "    print('Frequent word')\n",
    "    print(self.frequentWord)"
   ]
  },
  {
   "cell_type": "code",
   "execution_count": 70,
   "metadata": {},
   "outputs": [
    {
     "name": "stdout",
     "output_type": "stream",
     "text": [
      "Model berhasil disimpan di models/datamodel.json\n"
     ]
    }
   ],
   "source": [
    "nb = NaiveBayes()\n",
    "nb.addDataset('./../dataset/sample.csv')\n",
    "nb.processDataset()\n",
    "nb.saveModel('models', 'datamodel')\n",
    "# nb.debug()"
   ]
  }
 ],
 "metadata": {
  "interpreter": {
   "hash": "31f2aee4e71d21fbe5cf8b01ff0e069b9275f58929596ceb00d14d90e3e16cd6"
  },
  "kernelspec": {
   "display_name": "Python 3.8.9 64-bit",
   "name": "python3"
  },
  "language_info": {
   "codemirror_mode": {
    "name": "ipython",
    "version": 3
   },
   "file_extension": ".py",
   "mimetype": "text/x-python",
   "name": "python",
   "nbconvert_exporter": "python",
   "pygments_lexer": "ipython3",
   "version": "3.8.9"
  },
  "orig_nbformat": 4
 },
 "nbformat": 4,
 "nbformat_minor": 2
}
